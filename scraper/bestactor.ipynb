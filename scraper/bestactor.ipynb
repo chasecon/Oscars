{
 "cells": [
  {
   "cell_type": "code",
   "execution_count": 22,
   "metadata": {
    "collapsed": false,
    "deletable": true,
    "editable": true
   },
   "outputs": [
    {
     "name": "stdout",
     "output_type": "stream",
     "text": [
      "[[u'Walk the Line , Reese Witherspoon', u'Mrs Henderson Presents , Judi Dench', u'North Country , Charlize Theron', u'Pride & Prejudice , Keira Knightley', u'Transamerica , Felicity Huffman', u'The Upside of Anger , Joan Allen']]\n",
      "[[u'The Queen , Helen Mirren', u'The Devil Wears Prada , Meryl Streep', u'Little Children , Kate Winslet', u'Notes on a Scandal , Judi Dench', u'Volver , Pen\\xe9lope Cruz']]\n",
      "[[u'Away from Her , Julie Christie', u'Elizabeth: The Golden Age , Cate Blanchett', u'Enchanted , Amy Adams', u'Juno , Ellen Page', u'A Mighty Heart , Angelina Jolie', u'La Vie en Rose , Marion Cotillard']]\n",
      "[[u'Doubt , Meryl Streep', u' , Rachel Getting Married', u'Meryl Streep , Doubt', u'Changeling , Angelina Jolie', u'The Curious Case of Benjamin Button , Cate Blanchett', u'Frozen River , Melissa Leo', u'Nothing But the Truth , Kate Beckinsale']]\n",
      "[[u'Julie & Julia , Meryl Streep', u'The Blind Side , ', u'Sandra Bullock , Meryl Streep', u' , An Education', u' , Precious', u' , The Lovely Bones', u' , The Young Victoria']]\n",
      "[[u'Black Swan , Natalie Portman', u'The Kids Are All Right , Annette Bening', u'Rabbit Hole , Nicole Kidman', u\"Winter's Bone , Jennifer Lawrence\", u'The Girl with the Dragon Tattoo , Noomi Rapace', u'Blue Valentine , Michelle Williams']]\n",
      "[[u'The Help , Viola Davis', u'Martha Marcy May Marlene , Elizabeth Olsen', u'The Iron Lady , Meryl Streep', u'We Need to Talk About Kevin , Tilda Swinton', u'Young Adult , Charlize Theron', u'My Week with Marilyn , Michelle Williams']]\n",
      "[[u'Lincoln , Daniel Day-Lewis', u'Silver Linings Playbook , Bradley Cooper', u'The Sessions , John Hawkes', u'Les Mis\\xe9rables , Hugh Jackman', u'The Master , Joaquin Phoenix', u'Flight , Denzel Washington']]\n",
      "[[u'Dallas Buyers Club , Matthew McConaughey', u'American Hustle , Christian Bale', u'Nebraska , Bruce Dern', u'12 Years a Slave , Chiwetel Ejiofor', u'Captain Phillips , Tom Hanks', u'All Is Lost , Robert Redford']]\n",
      "[[u'Birdman or (The Unexpected Virtue of Ignorance) , Michael Keaton', u'The Imitation Game , Benedict Cumberbatch', u'The Grand Budapest Hotel , Ralph Fiennes', u'Nightcrawler , Jake Gyllenhaal', u'Selma , David Oyelowo', u'The Theory of Everything , Eddie Redmayne']]\n",
      "[[u'The Revenant , Leonardo DiCaprio', u'Trumbo , Bryan Cranston', u'The Martian , Matt Damon', u'Black Mass , Johnny Depp', u'Steve Jobs , Michael Fassbender', u'The Danish Girl , Eddie Redmayne']]\n"
     ]
    }
   ],
   "source": [
    "from bs4 import BeautifulSoup\n",
    "import urllib\n",
    "import urllib2\n",
    "#awards1 = best film\n",
    "#awards4 = best actor\n",
    "#awards7 = best actress\n",
    "#awards11 = director\n",
    "#print(awards[1])\n",
    "globes=[]\n",
    "oscars=[]\n",
    "critics=[]\n",
    "spirits=[]\n",
    "baftas=[]\n",
    "\n",
    "#critics choice\n",
    "years = [\"2006\",\"2007\",\"2008\",\"2009\",\"2010\",\"2011\",\"2012\",\"2013\",\"2014\",\"2015\",\"2016-1\"]\n",
    "for i in years: \n",
    "    url = 'http://www.imdb.com/event/ev0000133/'+ i\n",
    "    page = urllib2.urlopen(url)\n",
    "    soup = BeautifulSoup(page.read(), \"html5lib\")\n",
    "    page = soup.findAll(\"div\",{\"class\":\"award\"})\n",
    "    awards = page[0].findAll(\"blockquote\")\n",
    "    \n",
    "    thisYear = []\n",
    "    actorsThisYear = []\n",
    "    \n",
    "    actors=awards[4].findAll(\"a\")\n",
    "    size=len(actors)\n",
    "    indexes=[]\n",
    "    index=1\n",
    "    iterator=range(size)\n",
    "    \n",
    "    for i in iterator:  \n",
    "        if(index<size):\n",
    "            indexes.append(index)\n",
    "        index=index+3\n",
    "        \n",
    "    for i in indexes: actorsThisYear.append(actors[i].text + \" , \" + actors[i+1].text) \n",
    "    thisYear.append(actorsThisYear)\n",
    "    print(thisYear)\n",
    "\n",
    "    "
   ]
  },
  {
   "cell_type": "code",
   "execution_count": null,
   "metadata": {
    "collapsed": true,
    "deletable": true,
    "editable": true
   },
   "outputs": [],
   "source": [
    "#acadamy awards\n",
    "years = [\"2006\",\"2007\",\"2008\",\"2009\",\"2010\",\"2011\",\"2012\",\"2013\",\"2014\",\"2015\",\"2016\"]\n",
    "for i in years: \n",
    "    url = 'http://www.imdb.com/event/ev0000003/'+ i\n",
    "    page = urllib2.urlopen(url)\n",
    "    soup = BeautifulSoup(page.read(), \"html5lib\")\n",
    "    page = soup.findAll(\"div\",{\"class\":\"award\"})\n",
    "    awards = page[0].findAll(\"blockquote\")\n",
    "    film = awards[1].findAll(\"strong\")\n",
    "    thisYear = []\n",
    "    for i in film: thisYear.append(i.a.text)\n",
    "    oscars.append(thisYear)"
   ]
  },
  {
   "cell_type": "code",
   "execution_count": null,
   "metadata": {
    "collapsed": true
   },
   "outputs": [],
   "source": [
    "years = [\"2006\",\"2007\",\"2008\",\"2009\",\"2010\",\"2011\",\"2012\",\"2013\",\"2014\",\"2015\",\"2016\",\"2017\"]\n",
    "\n",
    "#golden globes\n",
    "for i in years: \n",
    "    url = 'http://www.imdb.com/event/ev0000292/'+ i\n",
    "    page = urllib2.urlopen(url)\n",
    "    soup = BeautifulSoup(page.read(), \"html5lib\")\n",
    "    page = soup.findAll(\"div\",{\"class\":\"award\"})\n",
    "    awards = page[0].findAll(\"blockquote\")\n",
    "    film = awards[1].findAll(\"strong\")\n",
    "    thisYear = []\n",
    "    for i in film: thisYear.append(i.a.text)\n",
    "    globes.append(thisYear)"
   ]
  },
  {
   "cell_type": "code",
   "execution_count": null,
   "metadata": {
    "collapsed": true
   },
   "outputs": [],
   "source": [
    "#bafta\n",
    "for i in years: \n",
    "    url = 'http://www.imdb.com/event/ev0000123/'+ i\n",
    "    page = urllib2.urlopen(url)\n",
    "    soup = BeautifulSoup(page.read(), \"html5lib\")\n",
    "    page = soup.findAll(\"div\",{\"class\":\"award\"})\n",
    "    awards = page[0].findAll(\"blockquote\")\n",
    "    film = awards[1].findAll(\"strong\")\n",
    "    thisYear = []\n",
    "    for i in film: thisYear.append(i.a.text)\n",
    "    baftas.append(thisYear)"
   ]
  },
  {
   "cell_type": "code",
   "execution_count": 8,
   "metadata": {
    "collapsed": true
   },
   "outputs": [],
   "source": [
    "#spirits\n",
    "for i in years: \n",
    "    url = 'http://www.imdb.com/event/ev0000349/'+ i\n",
    "    page = urllib2.urlopen(url)\n",
    "    soup = BeautifulSoup(page.read(), \"html5lib\")\n",
    "    page = soup.findAll(\"div\",{\"class\":\"award\"})\n",
    "    awards = page[0].findAll(\"blockquote\")\n",
    "    film = awards[1].findAll(\"strong\")\n",
    "    thisYear = []\n",
    "    for i in film: thisYear.append(i.a.text)\n",
    "    spirits.append(thisYear)"
   ]
  },
  {
   "cell_type": "code",
   "execution_count": 20,
   "metadata": {
    "collapsed": false
   },
   "outputs": [
    {
     "name": "stdout",
     "output_type": "stream",
     "text": [
      "[1, 4, 7, 10, 13, 16]\n"
     ]
    }
   ],
   "source": [
    "print(indexes)"
   ]
  }
 ],
 "metadata": {
  "kernelspec": {
   "display_name": "Python 2",
   "language": "python",
   "name": "python2"
  },
  "language_info": {
   "codemirror_mode": {
    "name": "ipython",
    "version": 2
   },
   "file_extension": ".py",
   "mimetype": "text/x-python",
   "name": "python",
   "nbconvert_exporter": "python",
   "pygments_lexer": "ipython2",
   "version": "2.7.13"
  }
 },
 "nbformat": 4,
 "nbformat_minor": 2
}
