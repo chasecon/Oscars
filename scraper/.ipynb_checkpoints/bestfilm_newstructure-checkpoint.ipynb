{
 "cells": [
  {
   "cell_type": "code",
   "execution_count": 51,
   "metadata": {
    "collapsed": false,
    "deletable": true,
    "editable": true
   },
   "outputs": [
    {
     "name": "stdout",
     "output_type": "stream",
     "text": [
      "2016-1\n"
     ]
    }
   ],
   "source": [
    "from bs4 import BeautifulSoup\n",
    "import urllib\n",
    "import urllib2\n",
    "\n",
    "#to print individual movies in individual years\n",
    "#for i in criticsRated:\n",
    "#    for j in i:\n",
    "#        print(j)\n",
    "\n",
    "all={}\n",
    "criticsAll={}\n",
    "\n",
    "\n",
    "#arrays that hold string arrays\n",
    "globes=[]\n",
    "oscars=[]\n",
    "critics=[]\n",
    "spirits=[]\n",
    "baftas=[]\n",
    "links=[]\n",
    "criticsRated=[]\n",
    "\n",
    "\n",
    "\n",
    "#critics choice script , only one that gets reviews currently\n",
    "\n",
    "#2016 link is different than others on imdb\n",
    "years = [\"2006\",\"2007\",\"2008\",\"2009\",\"2010\",\"2011\",\"2012\",\"2013\",\"2014\",\"2015\",\"2016-1\"]\n",
    "#years = [\"2006\"] to shorten time, with reviews it takes a VERY long time\n",
    "\n",
    "#loops once for each year\n",
    "for i in years: \n",
    "    url = 'http://www.imdb.com/event/ev0000133/'+ i\n",
    "    page = urllib2.urlopen(url)\n",
    "    soup = BeautifulSoup(page.read(), \"html5lib\")\n",
    "    \n",
    "#page contains all award data from the webpage, array of size 1 i think\n",
    "    page = soup.findAll(\"div\",{\"class\":\"award\"})\n",
    "    \n",
    "#awards is an array, different indexes are different catagories, different for each type of award\n",
    "    awards = page[0].findAll(\"blockquote\")\n",
    "    \n",
    "#index 0 is trash, 1 is where data starts, usually best picture\n",
    "    film = awards[1].findAll(\"strong\")\n",
    "    \n",
    "#arrays to hold current years data, to be appended to array of arrays later\n",
    "    thisYear = []\n",
    "    namesWithReviews=[]\n",
    "\n",
    "#iterates through each nominee\n",
    "    for j in film: \n",
    "#gets movie url and scrapes the reviews\n",
    "        #movieUrl = \"http://www.imdb.com\"+ j.a['href']\n",
    "        #moviePage = urllib2.urlopen(movieUrl)\n",
    "        #soup2 = BeautifulSoup(moviePage.read(), \"html5lib\")\n",
    "        #imdbReview = soup2.find(\"span\",{\"itemprop\":\"ratingValue\"})\n",
    "        #tempPage = soup2.find(\"div\",{\"class\":\"metacriticScore\"})\n",
    "        ##metaReview = tempPage.find(\"span\")\n",
    "        #thisYear.append(j.a.text + \" , imdb: \" + imdbReview.text + \" , meta: \" + metaReview.text)\n",
    "        thisYear.append(j.a.text)\n",
    "\n",
    "     #   namesWithReviews.append(i.a.text + \" , imdb: \" + imdbReview.text + \" , meta: \" + metaReview.text)\n",
    "    if(i==\"2016-1\"):\n",
    "        print(i)\n",
    "        criticsAll[2016]=thisYear\n",
    "    if(i!=\"2016-1\"):\n",
    "        criticsAll[int(i)]=thisYear\n",
    "    \n",
    "    #critics.append(thisYear)\n",
    "    #criticsRated.append(namesWithReviews)\n",
    "all[\"critics\"]=criticsAll"
   ]
  },
  {
   "cell_type": "code",
   "execution_count": 55,
   "metadata": {
    "collapsed": false,
    "deletable": true,
    "editable": true
   },
   "outputs": [],
   "source": [
    "#acadamy awards\n",
    "oscarsAll={}\n",
    "\n",
    "years = [\"2006\",\"2007\",\"2008\",\"2009\",\"2010\",\"2011\",\"2012\",\"2013\",\"2014\",\"2015\",\"2016\"]\n",
    "for i in years: \n",
    "    url = 'http://www.imdb.com/event/ev0000003/'+ i\n",
    "    page = urllib2.urlopen(url)\n",
    "    soup = BeautifulSoup(page.read(), \"html5lib\")\n",
    "    page = soup.findAll(\"div\",{\"class\":\"award\"})\n",
    "    awards = page[0].findAll(\"blockquote\")\n",
    "    film = awards[1].findAll(\"strong\")\n",
    "    thisYear = []\n",
    "    namesWithReviews=[]\n",
    "    for j in film:         \n",
    "        #movieUrl = \"http://www.imdb.com\"+ j.a['href']\n",
    "        #moviePage = urllib2.urlopen(movieUrl)\n",
    "        #soup2 = BeautifulSoup(moviePage.read(), \"html5lib\")\n",
    "        #imdbReview = soup2.find(\"span\",{\"itemprop\":\"ratingValue\"})\n",
    "        #tempPage = soup2.find(\"div\",{\"class\":\"metacriticScore\"})\n",
    "        ##metaReview = tempPage.find(\"span\")\n",
    "        #thisYear.append(j.a.text + \" , imdb: \" + imdbReview.text + \" , meta: \" + metaReview.text)\n",
    "        thisYear.append(j.a.text)\n",
    "\n",
    "    oscarsAll[int(i)]=thisYear\n",
    "    #oscars.append(thisYear)\n",
    "all[\"oscars\"]=oscarsAll"
   ]
  },
  {
   "cell_type": "code",
   "execution_count": 57,
   "metadata": {
    "collapsed": true,
    "deletable": true,
    "editable": true
   },
   "outputs": [],
   "source": [
    "years = [\"2006\",\"2007\",\"2008\",\"2009\",\"2010\",\"2011\",\"2012\",\"2013\",\"2014\",\"2015\",\"2016\",\"2017\"]\n",
    "globesAll={}\n",
    "#golden globes\n",
    "for i in years: \n",
    "    url = 'http://www.imdb.com/event/ev0000292/'+ i\n",
    "    page = urllib2.urlopen(url)\n",
    "    soup = BeautifulSoup(page.read(), \"html5lib\")\n",
    "    page = soup.findAll(\"div\",{\"class\":\"award\"})\n",
    "    awards = page[0].findAll(\"blockquote\")\n",
    "    film = awards[1].findAll(\"strong\")\n",
    "    thisYear = []\n",
    "    namesWithReviews=[]\n",
    "    for j in film: \n",
    "        #movieUrl = \"http://www.imdb.com\"+ j.a['href']\n",
    "        #moviePage = urllib2.urlopen(movieUrl)\n",
    "        #soup2 = BeautifulSoup(moviePage.read(), \"html5lib\")\n",
    "        #imdbReview = soup2.find(\"span\",{\"itemprop\":\"ratingValue\"})\n",
    "        #tempPage = soup2.find(\"div\",{\"class\":\"metacriticScore\"})\n",
    "        ##metaReview = tempPage.find(\"span\")\n",
    "        #thisYear.append(j.a.text + \" , imdb: \" + imdbReview.text + \" , meta: \" + metaReview.text)\n",
    "        thisYear.append(j.a.text)\n",
    "\n",
    "    globesAll[int(i)]=thisYear\n",
    "    #globes.append(thisYear)\n",
    "all[\"globes\"]=globesAll"
   ]
  },
  {
   "cell_type": "code",
   "execution_count": 58,
   "metadata": {
    "collapsed": true,
    "deletable": true,
    "editable": true
   },
   "outputs": [],
   "source": [
    "#bafta\n",
    "baftaAll={}\n",
    "for i in years: \n",
    "    url = 'http://www.imdb.com/event/ev0000123/'+ i\n",
    "    page = urllib2.urlopen(url)\n",
    "    soup = BeautifulSoup(page.read(), \"html5lib\")\n",
    "    page = soup.findAll(\"div\",{\"class\":\"award\"})\n",
    "    awards = page[0].findAll(\"blockquote\")\n",
    "    film = awards[1].findAll(\"strong\")\n",
    "    thisYear = []\n",
    "    namesWithReviews=[]\n",
    "    for j in film:\n",
    "        #movieUrl = \"http://www.imdb.com\"+ j.a['href']\n",
    "        #moviePage = urllib2.urlopen(movieUrl)\n",
    "        #soup2 = BeautifulSoup(moviePage.read(), \"html5lib\")\n",
    "        #imdbReview = soup2.find(\"span\",{\"itemprop\":\"ratingValue\"})\n",
    "        #tempPage = soup2.find(\"div\",{\"class\":\"metacriticScore\"})\n",
    "        ##metaReview = tempPage.find(\"span\")\n",
    "        #thisYear.append(j.a.text + \" , imdb: \" + imdbReview.text + \" , meta: \" + metaReview.text)\n",
    "        thisYear.append(j.a.text)\n",
    "\n",
    "    baftaAll[int(i)]=thisYear\n",
    "    #baftas.append(thisYear)\n",
    "all[\"bafta\"]=baftaAll"
   ]
  },
  {
   "cell_type": "code",
   "execution_count": 177,
   "metadata": {
    "collapsed": true,
    "deletable": true,
    "editable": true
   },
   "outputs": [],
   "source": [
    "#spirits\n",
    "spiritsAll={}\n",
    "for i in years: \n",
    "    url = 'http://www.imdb.com/event/ev0000349/'+ i\n",
    "    page = urllib2.urlopen(url)\n",
    "    soup = BeautifulSoup(page.read(), \"html5lib\")\n",
    "    page = soup.findAll(\"div\",{\"class\":\"award\"})\n",
    "    awards = page[0].findAll(\"blockquote\")\n",
    "    film = awards[1].findAll(\"strong\")\n",
    "    thisYear = []\n",
    "    namesWithReviews=[]\n",
    "    for j in film: \n",
    "        #movieUrl = \"http://www.imdb.com\"+ j.a['href']\n",
    "        #moviePage = urllib2.urlopen(movieUrl)\n",
    "        #soup2 = BeautifulSoup(moviePage.read(), \"html5lib\")\n",
    "        #imdbReview = soup2.find(\"span\",{\"itemprop\":\"ratingValue\"})\n",
    "        #tempPage = soup2.find(\"div\",{\"class\":\"metacriticScore\"})\n",
    "        ##metaReview = tempPage.find(\"span\")\n",
    "        #thisYear.append(j.a.text + \" , imdb: \" + imdbReview.text + \" , meta: \" + metaReview.text)\n",
    "        thisYear.append(j.a.text)\n",
    "\n",
    "    spiritsAll[int(i)]=thisYear\n",
    "    #spirits.append(thisYear)\n",
    "all[\"spirits\"]=spiritsAll"
   ]
  },
  {
   "cell_type": "code",
   "execution_count": 243,
   "metadata": {
    "collapsed": false,
    "deletable": true,
    "editable": true
   },
   "outputs": [],
   "source": [
    "#SAGS\n",
    "sagsAll={}\n",
    "for i in years: \n",
    "    url = 'http://www.imdb.com/event/ev0000598/'+ i\n",
    "    page = urllib2.urlopen(url)\n",
    "    #pageSplit = page\n",
    "    soup = BeautifulSoup(page.read(), \"html5lib\")\n",
    "    html = u\"\"\n",
    "    for tag in soup.find(\"h2\",text=\"Outstanding Performance by a Cast in a Motion Picture\").next_siblings:\n",
    "        if tag.name == \"h2\":\n",
    "            break\n",
    "        else:\n",
    "            html += unicode(tag)\n",
    "    #page = soup.findAll(\"div\",{\"class\":\"award\"})\n",
    "    #awards = page[0].findAll(\"blockquote\")\n",
    "    awards= BeautifulSoup(html, \"html5lib\")\n",
    "    film = awards.findAll(\"strong\")\n",
    "    thisYear = []\n",
    "    for j in film: \n",
    "        thisYear.append(j.a.text)\n",
    "\n",
    "    sagsAll[int(i)]=thisYear\n",
    "all[\"sags\"]=sagsAll"
   ]
  },
  {
   "cell_type": "code",
   "execution_count": 245,
   "metadata": {
    "collapsed": false,
    "deletable": true,
    "editable": true
   },
   "outputs": [],
   "source": [
    "scores={}"
   ]
  },
  {
   "cell_type": "code",
   "execution_count": 66,
   "metadata": {
    "collapsed": false,
    "deletable": true,
    "editable": true
   },
   "outputs": [],
   "source": [
    "for i in all:\n",
    "    for j in all[i]:\n",
    "        if(j != 2017):\n",
    "            scores[j]={}\n"
   ]
  },
  {
   "cell_type": "code",
   "execution_count": 246,
   "metadata": {
    "collapsed": false
   },
   "outputs": [],
   "source": [
    "for award in all: #for each award (i)\n",
    "    \n",
    "    if(award != \"oscars\"):\n",
    "        \n",
    "        for year in all[award]: #for each year (j)\n",
    "            \n",
    "            if year != 2017:\n",
    "                if year not in scores:\n",
    "                    scores[year]={};\n",
    "                    \n",
    "                for movie in all[award][year]:\n",
    "                    \n",
    "                    if movie not in scores[year]:\n",
    "                        scores[year][movie]={}\n",
    "                        scores[year][movie][\"won\"]=0\n",
    "                        scores[year][movie][\"nom\"]=0\n",
    "                    \n",
    "                    if(all[award][year][0]==movie):\n",
    "                        if movie in scores[year]:\n",
    "                            scores[year][movie][\"won\"]+=1\n",
    "                            scores[year][movie][\"nom\"]+=1\n",
    "\n",
    "                        else:\n",
    "                            scores[year][movie]=5\n",
    "                    else:\n",
    "                        if movie in scores[year]:\n",
    "                            scores[year][movie][\"nom\"]+=1\n",
    "                        else:\n",
    "                            scores[year][movie]=2\n"
   ]
  },
  {
   "cell_type": "code",
   "execution_count": 247,
   "metadata": {
    "collapsed": false
   },
   "outputs": [
    {
     "name": "stdout",
     "output_type": "stream",
     "text": [
      "Up in the Air  | won:  0 | nom:  2 | %:  0.0\n",
      "A Serious Man  | won:  0 | nom:  1 | %:  0.0\n",
      "Precious  | won:  0 | nom:  3 | %:  0.0\n",
      "Avatar  | won:  1 | nom:  2 | %:  50.0\n",
      "An Education  | won:  0 | nom:  2 | %:  0.0\n",
      "Up  | won:  0 | nom:  1 | %:  0.0\n",
      "The Hurt Locker  | won:  1 | nom:  3 | %:  33.3333333333\n",
      "Inglourious Basterds  | won:  1 | nom:  3 | %:  33.3333333333\n"
     ]
    }
   ],
   "source": [
    "year=2010\n",
    "for movie in scores[year]:\n",
    "    if movie in oscarsAll[year]:\n",
    "        percent = float(scores[year][movie][\"won\"])/float(scores[year][movie][\"nom\"]) * float(100)\n",
    "        print movie ,\" | won: \", scores[year][movie][\"won\"], \"| nom: \", scores[year][movie][\"nom\"], \"| %: \", percent\n",
    "    #print scores[2016][i]"
   ]
  },
  {
   "cell_type": "code",
   "execution_count": 162,
   "metadata": {
    "collapsed": false
   },
   "outputs": [],
   "source": [
    "scores={}"
   ]
  },
  {
   "cell_type": "code",
   "execution_count": 173,
   "metadata": {
    "collapsed": false
   },
   "outputs": [
    {
     "name": "stdout",
     "output_type": "stream",
     "text": [
      "Spotlight 2016\n",
      "Crash 2006\n",
      "The Departed 2007\n",
      "No Country for Old Men 2008\n",
      "Slumdog Millionaire 2009\n",
      "The Hurt Locker 2010\n",
      "The King's Speech 2011\n",
      "The Artist 2012\n",
      "Argo 2013\n",
      "12 Years a Slave 2014\n",
      "Birdman or (The Unexpected Virtue of Ignorance) 2015\n"
     ]
    }
   ],
   "source": [
    "for i in all[\"oscars\"]:\n",
    "    print all[\"oscars\"][i][0], i"
   ]
  },
  {
   "cell_type": "code",
   "execution_count": 179,
   "metadata": {
    "collapsed": false
   },
   "outputs": [
    {
     "name": "stdout",
     "output_type": "stream",
     "text": [
      "The Hurt Locker\n",
      "A Serious Man\n",
      "An Education\n",
      "Avatar\n",
      "District 9\n",
      "Inglourious Basterds\n",
      "Precious\n",
      "The Blind Side\n",
      "Up\n",
      "Up in the Air\n"
     ]
    }
   ],
   "source": [
    "y=2010\n",
    "for i in all[\"oscars\"][y]:\n",
    "    print i"
   ]
  },
  {
   "cell_type": "code",
   "execution_count": 239,
   "metadata": {
    "collapsed": false
   },
   "outputs": [],
   "source": [
    "#SAGS\n",
    "sagsAll={}\n",
    "for i in years: \n",
    "    url = 'http://www.imdb.com/event/ev0000598/'+ i\n",
    "    page = urllib2.urlopen(url)\n",
    "    #pageSplit = page\n",
    "    soup = BeautifulSoup(page.read(), \"html5lib\")\n",
    "    html = u\"\"\n",
    "    for tag in soup.find(\"h2\",text=\"Outstanding Performance by a Cast in a Motion Picture\").next_siblings:\n",
    "        if tag.name == \"h2\":\n",
    "            break\n",
    "        else:\n",
    "            html += unicode(tag)\n",
    "    #page = soup.findAll(\"div\",{\"class\":\"award\"})\n",
    "    #awards = page[0].findAll(\"blockquote\")\n",
    "    awards= BeautifulSoup(html, \"html5lib\")\n",
    "    film = awards.findAll(\"strong\")\n",
    "    thisYear = []\n",
    "    for j in film: \n",
    "        thisYear.append(j.a.text)\n",
    "\n",
    "    sagsAll[int(i)]=thisYear\n",
    "#all[\"sags\"]=sagsAll"
   ]
  },
  {
   "cell_type": "code",
   "execution_count": 244,
   "metadata": {
    "collapsed": false
   },
   "outputs": [
    {
     "data": {
      "text/plain": [
       "[u'Inglourious Basterds',\n",
       " u'An Education',\n",
       " u'Nine',\n",
       " u'Precious',\n",
       " u'The Hurt Locker']"
      ]
     },
     "execution_count": 244,
     "metadata": {},
     "output_type": "execute_result"
    }
   ],
   "source": [
    "sagsAll[2010]"
   ]
  },
  {
   "cell_type": "code",
   "execution_count": 228,
   "metadata": {
    "collapsed": false
   },
   "outputs": [],
   "source": [
    "html = u\"\"\n",
    "for tag in soup.find(\"h2\",text=\"Outstanding Performance by a Cast in a Motion Picture\").next_siblings:\n",
    "    if tag.name == \"h2\":\n",
    "        break\n",
    "    else:\n",
    "        html += unicode(tag)"
   ]
  },
  {
   "cell_type": "code",
   "execution_count": 235,
   "metadata": {
    "collapsed": false
   },
   "outputs": [],
   "source": [
    "so = BeautifulSoup(html, \"html5lib\")"
   ]
  },
  {
   "cell_type": "code",
   "execution_count": 237,
   "metadata": {
    "collapsed": false
   },
   "outputs": [
    {
     "data": {
      "text/plain": [
       "<strong>\\n<a href=\"/title/tt4846340/\">Hidden Figures</a>: </strong>"
      ]
     },
     "execution_count": 237,
     "metadata": {},
     "output_type": "execute_result"
    }
   ],
   "source": [
    "so.find(\"strong\")"
   ]
  }
 ],
 "metadata": {
  "kernelspec": {
   "display_name": "Python 2",
   "language": "python",
   "name": "python2"
  },
  "language_info": {
   "codemirror_mode": {
    "name": "ipython",
    "version": 2
   },
   "file_extension": ".py",
   "mimetype": "text/x-python",
   "name": "python",
   "nbconvert_exporter": "python",
   "pygments_lexer": "ipython2",
   "version": "2.7.13"
  }
 },
 "nbformat": 4,
 "nbformat_minor": 2
}
